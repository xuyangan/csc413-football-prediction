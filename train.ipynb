{
 "cells": [
  {
   "cell_type": "code",
   "execution_count": 17,
   "metadata": {},
   "outputs": [],
   "source": [
    "import pandas as pd\n",
    "import torch as th\n",
    "import torch.nn as nn\n",
    "import glob\n",
    "import pickle\n",
    "\n",
    "import sys\n",
    "sys.path.append('../models/')\n",
    "from models.inception1D import *"
   ]
  },
  {
   "cell_type": "code",
   "execution_count": 18,
   "metadata": {},
   "outputs": [],
   "source": [
    "\n",
    "training_home_teams_matches = th.load(\"dataset/tensors/training_home_teams_matches.pt\")\n",
    "training_away_teams_matches = th.load(\"dataset/tensors/training_away_teams_matches.pt\")\n",
    "training_matches_features_home = th.load(\"dataset/tensors/training_matches_features_home.pt\")\n",
    "training_matches_features_away = th.load(\"dataset/tensors/training_matches_features_away.pt\")\n",
    "training_targets = th.load(\"dataset/tensors/training_targets.pt\")\n",
    "\n",
    "test_home_teams_matches = th.load(\"dataset/tensors/test_home_teams_matches.pt\")\n",
    "test_away_teams_matches = th.load(\"dataset/tensors/test_away_teams_matches.pt\")\n",
    "test_matches_features_home = th.load(\"dataset/tensors/test_matches_features_home.pt\")\n",
    "test_matches_features_away = th.load(\"dataset/tensors/test_matches_features_away.pt\")\n",
    "test_targets = th.load(\"dataset/tensors/test_targets.pt\")\n",
    "\n"
   ]
  },
  {
   "cell_type": "code",
   "execution_count": 29,
   "metadata": {},
   "outputs": [
    {
     "name": "stdout",
     "output_type": "stream",
     "text": [
      "{'H': 0, 'D': 1, 'A': 2}\n"
     ]
    }
   ],
   "source": [
    "import pickle\n",
    "file1 = 'dataset/tensors/idx_to_teams.pkl'\n",
    "file2 = 'dataset/tensors/teams_to_idx.pkl'\n",
    "file3 = 'dataset/tensors/result_map.pkl'\n",
    "\n",
    "with open(file1, 'rb') as file:\n",
    "    idx_to_teams = pickle.load(file)\n",
    "\n",
    "with open(file2, 'rb') as file:\n",
    "    teams_to_idx = pickle.load(file)\n",
    "\n",
    "with open(file3, 'rb') as file:\n",
    "    result_map = pickle.load(file)\n",
    "\n",
    "print(result_map)\n",
    "idx_to_result = {0: 'H', 1: 'D', 2: 'A'}\n",
    "\n"
   ]
  },
  {
   "cell_type": "code",
   "execution_count": 23,
   "metadata": {},
   "outputs": [
    {
     "name": "stdout",
     "output_type": "stream",
     "text": [
      "Training data\n",
      "torch.Size([26361])\n",
      "torch.Size([26361])\n",
      "torch.Size([26361, 5, 14])\n",
      "torch.Size([26361, 5, 14])\n",
      "torch.Size([26361])\n",
      "Test data\n",
      "torch.Size([4054])\n",
      "torch.Size([4054])\n",
      "torch.Size([4054, 5, 14])\n",
      "torch.Size([4054, 5, 14])\n",
      "torch.Size([4054])\n"
     ]
    }
   ],
   "source": [
    "print(\"Training data\")\n",
    "print(training_home_teams_matches.shape) # the idex of home team for the matches\n",
    "print(training_away_teams_matches.shape) # the idex of away team for the matches\n",
    "print(training_matches_features_home.shape) # the features of the home team for the matches\n",
    "print(training_matches_features_away.shape) # the features of the away team for the matches\n",
    "print(training_targets.shape) # the targets of the matches H D A\n",
    "\n",
    "print(\"Test data\")\n",
    "print(test_home_teams_matches.shape)\n",
    "print(test_away_teams_matches.shape)\n",
    "print(test_matches_features_home.shape)\n",
    "print(test_matches_features_away.shape)\n",
    "print(test_targets.shape)\n",
    "\n",
    "\n"
   ]
  },
  {
   "cell_type": "code",
   "execution_count": 32,
   "metadata": {},
   "outputs": [
    {
     "name": "stdout",
     "output_type": "stream",
     "text": [
      "First match\n",
      "Home team:  Troyes\n",
      "Away team:  Sochaux\n",
      "Features home:  tensor([[0.0000, 0.0000, 0.0000, 0.0000, 0.0000, 0.0000, 0.0000, 0.0000, 0.0000,\n",
      "         0.0000, 0.0000, 0.0000, 0.0000, 0.0000],\n",
      "        [0.0000, 0.0000, 0.0000, 0.0000, 0.0000, 0.0000, 0.0000, 0.0000, 0.0000,\n",
      "         0.0000, 0.0000, 0.0000, 0.0000, 0.0000],\n",
      "        [0.0000, 0.0000, 0.0000, 0.0000, 0.0000, 0.0000, 0.0000, 0.0000, 0.0000,\n",
      "         0.0000, 0.0000, 0.0000, 0.0000, 0.0000],\n",
      "        [0.0000, 0.0000, 0.0000, 0.0000, 0.0000, 0.0000, 0.0000, 0.0000, 0.0000,\n",
      "         0.0000, 0.0000, 0.0000, 0.0000, 0.0000],\n",
      "        [0.0000, 0.0000, 0.0000, 0.0000, 0.0000, 0.0000, 0.0000, 0.0000, 0.0000,\n",
      "         0.0000, 0.0000, 2.7000, 3.0000, 2.8000]])\n",
      "Features away:  tensor([[0.0000, 0.0000, 0.0000, 0.0000, 0.0000, 0.0000, 0.0000, 0.0000, 0.0000,\n",
      "         0.0000, 0.0000, 0.0000, 0.0000, 0.0000],\n",
      "        [0.0000, 0.0000, 0.0000, 0.0000, 0.0000, 0.0000, 0.0000, 0.0000, 0.0000,\n",
      "         0.0000, 0.0000, 0.0000, 0.0000, 0.0000],\n",
      "        [0.0000, 0.0000, 0.0000, 0.0000, 0.0000, 0.0000, 0.0000, 0.0000, 0.0000,\n",
      "         0.0000, 0.0000, 0.0000, 0.0000, 0.0000],\n",
      "        [0.0000, 0.0000, 0.0000, 0.0000, 0.0000, 0.0000, 0.0000, 0.0000, 0.0000,\n",
      "         0.0000, 0.0000, 0.0000, 0.0000, 0.0000],\n",
      "        [0.0000, 0.0000, 0.0000, 0.0000, 0.0000, 0.0000, 0.0000, 0.0000, 0.0000,\n",
      "         0.0000, 0.0000, 2.7000, 3.0000, 2.8000]])\n",
      "Target:  A\n"
     ]
    }
   ],
   "source": [
    "index = 0\n",
    "print(\"First match\")\n",
    "print(\"Home team: \", idx_to_teams[training_home_teams_matches[index].item()])\n",
    "print(\"Away team: \", idx_to_teams[training_away_teams_matches[index].item()])\n",
    "print(\"Features home: \", training_matches_features_home[index])\n",
    "print(\"Features away: \", training_matches_features_away[index])\n",
    "print(\"Target: \", idx_to_result[training_targets[index].item()])\n"
   ]
  },
  {
   "cell_type": "code",
   "execution_count": 36,
   "metadata": {},
   "outputs": [
    {
     "name": "stdout",
     "output_type": "stream",
     "text": [
      "Training data\n",
      "21088\n",
      "659\n",
      "Validation data\n",
      "5273\n",
      "165\n",
      "Test data\n",
      "4054\n",
      "127\n"
     ]
    }
   ],
   "source": [
    "#split the data into training and validation\n",
    "from torch.utils.data import DataLoader, TensorDataset\n",
    "\n",
    "split = 0.8\n",
    "split_idx = int(len(training_home_teams_matches) * split)\n",
    "\n",
    "train_dataset = TensorDataset(training_home_teams_matches[:split_idx], training_away_teams_matches[:split_idx], training_matches_features_home[:split_idx], training_matches_features_away[:split_idx], training_targets[:split_idx])\n",
    "train_loader = DataLoader(train_dataset, batch_size=32, shuffle=True)\n",
    "\n",
    "val_dataset = TensorDataset(training_home_teams_matches[split_idx:], training_away_teams_matches[split_idx:], training_matches_features_home[split_idx:], training_matches_features_away[split_idx:], training_targets[split_idx:])\n",
    "val_loader = DataLoader(val_dataset, batch_size=32, shuffle=False)\n",
    "\n",
    "test_dataset = TensorDataset(test_home_teams_matches, test_away_teams_matches, test_matches_features_home, test_matches_features_away, test_targets)\n",
    "test_loader = DataLoader(test_dataset, batch_size=32, shuffle=False)\n",
    "\n",
    "print(\"Training data\")\n",
    "print(len(train_dataset))\n",
    "print(len(train_loader))\n",
    "\n",
    "print(\"Validation data\")\n",
    "print(len(val_dataset))\n",
    "print(len(val_loader))\n",
    "\n",
    "print(\"Test data\")\n",
    "print(len(test_dataset))\n",
    "print(len(test_loader))"
   ]
  },
  {
   "cell_type": "code",
   "execution_count": 34,
   "metadata": {},
   "outputs": [
    {
     "name": "stdout",
     "output_type": "stream",
     "text": [
      "torch.Size([32])\n",
      "torch.Size([32])\n",
      "torch.Size([32, 5, 14])\n",
      "torch.Size([32, 5, 14])\n",
      "torch.Size([32])\n"
     ]
    }
   ],
   "source": [
    "for home_teams, away_teams, home_features, away_features, targets in train_loader:\n",
    "    print(home_teams.shape)\n",
    "    print(away_teams.shape)\n",
    "    print(home_features.shape)\n",
    "    print(away_features.shape)\n",
    "    print(targets.shape)\n",
    "    break"
   ]
  }
 ],
 "metadata": {
  "kernelspec": {
   "display_name": "env",
   "language": "python",
   "name": "python3"
  },
  "language_info": {
   "codemirror_mode": {
    "name": "ipython",
    "version": 3
   },
   "file_extension": ".py",
   "mimetype": "text/x-python",
   "name": "python",
   "nbconvert_exporter": "python",
   "pygments_lexer": "ipython3",
   "version": "3.10.13"
  }
 },
 "nbformat": 4,
 "nbformat_minor": 2
}

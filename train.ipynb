{
 "cells": [
  {
   "cell_type": "code",
   "execution_count": 1,
   "metadata": {},
   "outputs": [],
   "source": [
    "import pandas as pd\n",
    "import torch as th\n",
    "import torch.nn as nn\n",
    "import glob\n",
    "import pickle\n",
    "\n",
    "import sys\n",
    "sys.path.append('../models/')\n",
    "from models.lstm import LSTM\n",
    "from models.transformer import Transformer\n",
    "from models.train_model import RPS_loss, train_model"
   ]
  },
  {
   "cell_type": "code",
   "execution_count": 2,
   "metadata": {},
   "outputs": [],
   "source": [
    "training_home_teams_matches = th.load(\"dataset/tensors/training_home_teams_matches.pt\")\n",
    "training_away_teams_matches = th.load(\"dataset/tensors/training_away_teams_matches.pt\")\n",
    "training_matches_features_home = th.load(\"dataset/tensors/training_matches_features_home.pt\")\n",
    "training_matches_features_away = th.load(\"dataset/tensors/training_matches_features_away.pt\")\n",
    "training_targets = th.load(\"dataset/tensors/training_targets.pt\")\n",
    "\n",
    "test_home_teams_matches = th.load(\"dataset/tensors/test_home_teams_matches.pt\")\n",
    "test_away_teams_matches = th.load(\"dataset/tensors/test_away_teams_matches.pt\")\n",
    "test_matches_features_home = th.load(\"dataset/tensors/test_matches_features_home.pt\")\n",
    "test_matches_features_away = th.load(\"dataset/tensors/test_matches_features_away.pt\")\n",
    "test_targets = th.load(\"dataset/tensors/test_targets.pt\")\n",
    "\n"
   ]
  },
  {
   "cell_type": "code",
   "execution_count": 3,
   "metadata": {},
   "outputs": [
    {
     "name": "stdout",
     "output_type": "stream",
     "text": [
      "{'H': 0, 'D': 1, 'A': 2}\n"
     ]
    }
   ],
   "source": [
    "import pickle\n",
    "file1 = 'dataset/tensors/idx_to_teams.pkl'\n",
    "file2 = 'dataset/tensors/teams_to_idx.pkl'\n",
    "file3 = 'dataset/tensors/result_map.pkl'\n",
    "\n",
    "with open(file1, 'rb') as file:\n",
    "    idx_to_teams = pickle.load(file)\n",
    "\n",
    "with open(file2, 'rb') as file:\n",
    "    teams_to_idx = pickle.load(file)\n",
    "\n",
    "with open(file3, 'rb') as file:\n",
    "    result_map = pickle.load(file)\n",
    "\n",
    "print(result_map)\n",
    "idx_to_result = {0: 'H', 1: 'D', 2: 'A'}\n",
    "\n"
   ]
  },
  {
   "cell_type": "code",
   "execution_count": 4,
   "metadata": {},
   "outputs": [
    {
     "name": "stdout",
     "output_type": "stream",
     "text": [
      "Training data\n",
      "torch.Size([24843])\n",
      "torch.Size([24843])\n",
      "torch.Size([24843, 5, 14])\n",
      "torch.Size([24843, 5, 14])\n",
      "torch.Size([24843])\n",
      "Test data\n",
      "torch.Size([3072])\n",
      "torch.Size([3072])\n",
      "torch.Size([3072, 5, 14])\n",
      "torch.Size([3072, 5, 14])\n",
      "torch.Size([3072])\n"
     ]
    }
   ],
   "source": [
    "print(\"Training data\")\n",
    "print(training_home_teams_matches.shape) # the idex of home team for the matches\n",
    "print(training_away_teams_matches.shape) # the idex of away team for the matches\n",
    "print(training_matches_features_home.shape) # the features of the home team for the matches\n",
    "print(training_matches_features_away.shape) # the features of the away team for the matches\n",
    "print(training_targets.shape) # the targets of the matches H D A\n",
    "\n",
    "print(\"Test data\")\n",
    "print(test_home_teams_matches.shape)\n",
    "print(test_away_teams_matches.shape)\n",
    "print(test_matches_features_home.shape)\n",
    "print(test_matches_features_away.shape)\n",
    "print(test_targets.shape)\n",
    "\n",
    "\n"
   ]
  },
  {
   "cell_type": "code",
   "execution_count": 5,
   "metadata": {},
   "outputs": [
    {
     "name": "stdout",
     "output_type": "stream",
     "text": [
      "torch.Size([24843, 3])\n",
      "torch.Size([3072, 3])\n",
      "tensor([0., 1., 0.])\n",
      "tensor([0., 0., 1.])\n",
      "tensor([1., 0., 0.])\n",
      "tensor([0., 1., 0.])\n",
      "tensor([0., 0., 1.])\n",
      "tensor([1., 0., 0.])\n"
     ]
    }
   ],
   "source": [
    "import torch.nn.functional as F\n",
    "\n",
    "def one_hot_targets(targets):\n",
    "    num_classes = th.max(targets).item() + 1\n",
    "    return F.one_hot(targets, num_classes=num_classes).type(th.float32)\n",
    "\n",
    "training_targets_oh = one_hot_targets(training_targets)\n",
    "test_targets_oh = one_hot_targets(test_targets)\n",
    "\n",
    "print(training_targets_oh.shape)\n",
    "print(test_targets_oh.shape)\n",
    "\n",
    "for i in range(3):\n",
    "    print(training_targets_oh[i])\n",
    "    print(test_targets_oh[i])"
   ]
  },
  {
   "cell_type": "code",
   "execution_count": 6,
   "metadata": {},
   "outputs": [
    {
     "name": "stdout",
     "output_type": "stream",
     "text": [
      "First match\n",
      "Home team:  Bourg Peronnas\n",
      "Away team:  Laval\n",
      "Features home:  tensor([[ 0.0000,  0.0000,  0.0000,  0.0000,  0.0000,  0.0000,  0.0000,  0.0000,\n",
      "          0.0000,  0.0000,  0.0000,  2.7000,  2.8800,  2.9000],\n",
      "        [-1.1730, -1.8492, -0.8932, -0.3694,  0.0000,  0.0000,  0.0000,  0.0000,\n",
      "          0.0000,  0.0000,  0.0000,  2.2500,  3.0000,  3.5000],\n",
      "        [-0.6845,  1.3282, -1.1527,  0.8992,  0.0000,  0.0000,  0.0000,  0.0000,\n",
      "          0.0000,  0.0000,  0.0000,  2.4000,  3.0000,  3.2000],\n",
      "        [-0.2291,  1.8941, -1.4227,  0.5266,  0.0000,  0.0000,  0.0000,  0.0000,\n",
      "          0.0000,  0.0000,  0.0000,  3.1000,  3.1000,  2.3800],\n",
      "        [ 0.2685,  1.2267, -1.1430, -0.6323,  0.0000,  0.0000,  0.0000,  0.0000,\n",
      "          0.0000,  0.0000,  0.0000,  2.1000,  3.1000,  3.7500]])\n",
      "Features away:  tensor([[ 0.0000,  0.0000,  0.0000,  0.0000,  0.0000,  0.0000,  0.0000,  0.0000,\n",
      "          0.0000,  0.0000,  0.0000,  2.2000,  3.0000,  3.6000],\n",
      "        [-0.3644, -0.6365, -0.8932, -1.1891,  0.0000,  0.0000,  0.0000,  0.0000,\n",
      "          0.0000,  0.0000,  0.0000,  2.5000,  3.0000,  3.1000],\n",
      "        [-1.5235, -1.2494, -1.8152, -1.5288,  0.0000,  0.0000,  0.0000,  0.0000,\n",
      "          0.0000,  0.0000,  0.0000,  2.2000,  3.0000,  3.6000],\n",
      "        [-0.2285, -1.7327, -2.5471, -1.0356,  0.0000,  0.0000,  0.0000,  0.0000,\n",
      "          0.0000,  0.0000,  0.0000,  2.2500,  2.6300,  4.2000],\n",
      "        [-0.5538, -2.2725, -3.3109, -1.3215,  0.0000,  0.0000,  0.0000,  0.0000,\n",
      "          0.0000,  0.0000,  0.0000,  2.1000,  3.1000,  3.7500]])\n"
     ]
    }
   ],
   "source": [
    "index = 0\n",
    "print(\"First match\")\n",
    "print(\"Home team: \", idx_to_teams[training_home_teams_matches[index].item()])\n",
    "print(\"Away team: \", idx_to_teams[training_away_teams_matches[index].item()])\n",
    "print(\"Features home: \", training_matches_features_home[index])\n",
    "print(\"Features away: \", training_matches_features_away[index])\n",
    "# print(\"Target: \", idx_to_result[training_targets[index].item()])\n"
   ]
  },
  {
   "cell_type": "code",
   "execution_count": 7,
   "metadata": {},
   "outputs": [
    {
     "name": "stdout",
     "output_type": "stream",
     "text": [
      "Training data\n",
      "19874\n",
      "Validation data\n",
      "4969\n",
      "Test data\n",
      "3072\n"
     ]
    }
   ],
   "source": [
    "#split the data into training and validation\n",
    "from torch.utils.data import DataLoader, TensorDataset\n",
    "\n",
    "split = 0.8\n",
    "split_idx = int(len(training_home_teams_matches) * split)\n",
    "\n",
    "train_dataset = TensorDataset(training_home_teams_matches[:split_idx], training_away_teams_matches[:split_idx], training_matches_features_home[:split_idx], training_matches_features_away[:split_idx], training_targets_oh[:split_idx])\n",
    "# train_loader = DataLoader(train_dataset, batch_size=32, shuffle=False) # true could cause lookahead\n",
    "\n",
    "val_dataset = TensorDataset(training_home_teams_matches[split_idx:], training_away_teams_matches[split_idx:], training_matches_features_home[split_idx:], training_matches_features_away[split_idx:], training_targets_oh[split_idx:])\n",
    "# val_loader = DataLoader(val_dataset, batch_size=32, shuffle=False)\n",
    "\n",
    "test_dataset = TensorDataset(test_home_teams_matches, test_away_teams_matches, test_matches_features_home, test_matches_features_away, test_targets_oh)\n",
    "# test_loader = DataLoader(test_dataset, batch_size=32, shuffle=False)\n",
    "\n",
    "print(\"Training data\")\n",
    "print(len(train_dataset))\n",
    "# print(len(train_loader))\n",
    "\n",
    "print(\"Validation data\")\n",
    "print(len(val_dataset))\n",
    "# print(len(val_loader))\n",
    "\n",
    "print(\"Test data\")\n",
    "print(len(test_dataset))\n",
    "# print(len(test_loader))"
   ]
  },
  {
   "cell_type": "code",
   "execution_count": null,
   "metadata": {},
   "outputs": [],
   "source": [
    "model_lstm = LSTM(\n",
    "            num_features=14,\n",
    "            inception_depth=2, \n",
    "            inception_out=24, \n",
    "            lstm_num_layers=2,\n",
    "            hidden_size=500, \n",
    "            num_heads=1, num_classes=3, bottleneck_dim = None)\n",
    "\n",
    "# Default batch size = 100\n",
    "\n",
    "train_model(model_lstm, \n",
    "criterion=RPS_loss(),\n",
    "# criterion= nn.CrossEntropyLoss(),\n",
    "train_dataset=train_dataset, \n",
    "val_dataset=val_dataset,\n",
    "learning_rate=0.1,\n",
    "num_epochs=10)"
   ]
  },
  {
   "cell_type": "code",
   "execution_count": 10,
   "metadata": {},
   "outputs": [
    {
     "name": "stdout",
     "output_type": "stream",
     "text": [
      "50 Loss: 0.11096549034118652 Train Acc: 38.92964824120603 Val Acc: 36.52\n",
      "100 Loss: 0.10961967706680298 Train Acc: 41.29145728643216 Val Acc: 38.82\n",
      "150 Loss: 0.11596894264221191 Train Acc: 43.32663316582914 Val Acc: 43.16\n",
      "200 Loss: 0.11513856798410416 Train Acc: 43.41708542713568 Val Acc: 43.34\n",
      "250 Loss: 0.1091860681772232 Train Acc: 43.70854271356784 Val Acc: 43.78\n",
      "300 Loss: 0.10303571075201035 Train Acc: 43.49246231155779 Val Acc: 42.5\n",
      "350 Loss: 0.1144317239522934 Train Acc: 44.1356783919598 Val Acc: 43.22\n",
      "400 Loss: 0.11053590476512909 Train Acc: 44.49748743718593 Val Acc: 43.18\n",
      "450 Loss: 0.10015374422073364 Train Acc: 44.80904522613066 Val Acc: 44.16\n",
      "500 Loss: 0.11531666666269302 Train Acc: 45.20603015075377 Val Acc: 44.48\n",
      "550 Loss: 0.10971035063266754 Train Acc: 45.36683417085427 Val Acc: 44.74\n",
      "600 Loss: 0.10515064001083374 Train Acc: 45.58291457286432 Val Acc: 44.48\n",
      "650 Loss: 0.11006437242031097 Train Acc: 46.06030150753769 Val Acc: 45.34\n",
      "700 Loss: 0.1035480871796608 Train Acc: 46.301507537688444 Val Acc: 45.64\n",
      "750 Loss: 0.10886804014444351 Train Acc: 46.50251256281407 Val Acc: 46.14\n",
      "800 Loss: 0.09913188964128494 Train Acc: 46.879396984924625 Val Acc: 45.84\n",
      "850 Loss: 0.10614079236984253 Train Acc: 46.753768844221106 Val Acc: 46.6\n",
      "900 Loss: 0.11252393573522568 Train Acc: 47.050251256281406 Val Acc: 46.26\n",
      "950 Loss: 0.1082083210349083 Train Acc: 46.72361809045226 Val Acc: 46.82\n",
      "1000 Loss: 0.10139545053243637 Train Acc: 47.321608040201006 Val Acc: 46.82\n",
      "1050 Loss: 0.10452485084533691 Train Acc: 47.402010050251256 Val Acc: 47.0\n",
      "1100 Loss: 0.10809896886348724 Train Acc: 47.48743718592965 Val Acc: 47.08\n",
      "1150 Loss: 0.1138419359922409 Train Acc: 47.256281407035175 Val Acc: 47.36\n",
      "1200 Loss: 0.10115327686071396 Train Acc: 47.62814070351759 Val Acc: 47.44\n",
      "1250 Loss: 0.10219065099954605 Train Acc: 47.64321608040201 Val Acc: 47.5\n",
      "1300 Loss: 0.09971065074205399 Train Acc: 47.698492462311556 Val Acc: 47.56\n",
      "1350 Loss: 0.10516174137592316 Train Acc: 47.437185929648244 Val Acc: 47.5\n",
      "1400 Loss: 0.10338674485683441 Train Acc: 47.80402010050251 Val Acc: 47.62\n",
      "1450 Loss: 0.10398729145526886 Train Acc: 47.97989949748744 Val Acc: 47.68\n",
      "1500 Loss: 0.10688985884189606 Train Acc: 47.76381909547739 Val Acc: 47.84\n",
      "1550 Loss: 0.1036357507109642 Train Acc: 47.67336683417086 Val Acc: 47.8\n",
      "1600 Loss: 0.10405099391937256 Train Acc: 47.879396984924625 Val Acc: 47.86\n",
      "1650 Loss: 0.1027049571275711 Train Acc: 48.085427135678394 Val Acc: 48.0\n",
      "1700 Loss: 0.10828042030334473 Train Acc: 48.27638190954774 Val Acc: 47.84\n",
      "1750 Loss: 0.1071811094880104 Train Acc: 47.82914572864322 Val Acc: 48.16\n",
      "1800 Loss: 0.09741295874118805 Train Acc: 48.23618090452261 Val Acc: 48.16\n",
      "1850 Loss: 0.10143987089395523 Train Acc: 48.2964824120603 Val Acc: 48.02\n",
      "1900 Loss: 0.10672594606876373 Train Acc: 48.336683417085425 Val Acc: 48.18\n",
      "1950 Loss: 0.10306104272603989 Train Acc: 47.73869346733668 Val Acc: 48.02\n",
      "2000 Loss: 0.10181324183940887 Train Acc: 47.93969849246231 Val Acc: 48.44\n",
      "2050 Loss: 0.10339989513158798 Train Acc: 48.47738693467337 Val Acc: 48.36\n",
      "2100 Loss: 0.10650724172592163 Train Acc: 48.57286432160804 Val Acc: 48.38\n",
      "2150 Loss: 0.1006658524274826 Train Acc: 48.09045226130653 Val Acc: 48.54\n",
      "2200 Loss: 0.09736742079257965 Train Acc: 48.06532663316583 Val Acc: 48.72\n",
      "2250 Loss: 0.09872584044933319 Train Acc: 48.47738693467337 Val Acc: 48.64\n",
      "2300 Loss: 0.1097748652100563 Train Acc: 48.58793969849246 Val Acc: 48.52\n",
      "2350 Loss: 0.10007563978433609 Train Acc: 48.07035175879397 Val Acc: 48.72\n",
      "2400 Loss: 0.10032609850168228 Train Acc: 48.45728643216081 Val Acc: 48.78\n",
      "2450 Loss: 0.10321690142154694 Train Acc: 48.618090452261306 Val Acc: 48.66\n",
      "2500 Loss: 0.11018697172403336 Train Acc: 48.70854271356784 Val Acc: 48.76\n",
      "2550 Loss: 0.10208730399608612 Train Acc: 48.221105527638194 Val Acc: 48.74\n",
      "2600 Loss: 0.10091625154018402 Train Acc: 48.48743718592965 Val Acc: 48.74\n",
      "2650 Loss: 0.10703762620687485 Train Acc: 48.65829145728643 Val Acc: 48.94\n",
      "2700 Loss: 0.10321825742721558 Train Acc: 48.72361809045226 Val Acc: 49.1\n",
      "2750 Loss: 0.11020687967538834 Train Acc: 48.482412060301506 Val Acc: 48.9\n",
      "2800 Loss: 0.10604556649923325 Train Acc: 48.63316582914573 Val Acc: 48.8\n",
      "2850 Loss: 0.10735207796096802 Train Acc: 48.65829145728643 Val Acc: 49.04\n",
      "2900 Loss: 0.1079300045967102 Train Acc: 48.663316582914575 Val Acc: 49.02\n",
      "2950 Loss: 0.10583512485027313 Train Acc: 48.391959798994975 Val Acc: 48.94\n",
      "3000 Loss: 0.10354427248239517 Train Acc: 48.64824120603015 Val Acc: 49.18\n",
      "3050 Loss: 0.1058318242430687 Train Acc: 48.7286432160804 Val Acc: 49.06\n",
      "3100 Loss: 0.10796568542718887 Train Acc: 48.80904522613066 Val Acc: 49.16\n",
      "3150 Loss: 0.1040821522474289 Train Acc: 48.482412060301506 Val Acc: 49.02\n",
      "3200 Loss: 0.09708024561405182 Train Acc: 48.7286432160804 Val Acc: 49.1\n",
      "3250 Loss: 0.10400283336639404 Train Acc: 48.75879396984924 Val Acc: 48.96\n",
      "3300 Loss: 0.10836006700992584 Train Acc: 48.80904522613066 Val Acc: 49.2\n",
      "3350 Loss: 0.10516218841075897 Train Acc: 48.78894472361809 Val Acc: 49.02\n",
      "3400 Loss: 0.10122080892324448 Train Acc: 48.84924623115578 Val Acc: 49.06\n",
      "3450 Loss: 0.10183553397655487 Train Acc: 48.78391959798995 Val Acc: 49.06\n",
      "3500 Loss: 0.10526242107152939 Train Acc: 48.778894472361806 Val Acc: 49.22\n",
      "3550 Loss: 0.10464811325073242 Train Acc: 48.80402010050251 Val Acc: 48.98\n",
      "3600 Loss: 0.10566333681344986 Train Acc: 48.90954773869347 Val Acc: 49.14\n",
      "3650 Loss: 0.10317377001047134 Train Acc: 48.66834170854271 Val Acc: 49.28\n",
      "3700 Loss: 0.10714912414550781 Train Acc: 48.753768844221106 Val Acc: 49.28\n",
      "3750 Loss: 0.10463561862707138 Train Acc: 48.80402010050251 Val Acc: 48.88\n",
      "3800 Loss: 0.10364408791065216 Train Acc: 48.91959798994975 Val Acc: 49.34\n",
      "3850 Loss: 0.10406021028757095 Train Acc: 48.74874371859296 Val Acc: 49.34\n",
      "3900 Loss: 0.10015717893838882 Train Acc: 48.98994974874372 Val Acc: 49.42\n",
      "3950 Loss: 0.10470346361398697 Train Acc: 48.98994974874372 Val Acc: 49.08\n",
      "4000 Loss: 0.10274635255336761 Train Acc: 48.959798994974875 Val Acc: 49.46\n",
      "4050 Loss: 0.09665118157863617 Train Acc: 48.969849246231156 Val Acc: 49.44\n",
      "4100 Loss: 0.10398203134536743 Train Acc: 48.84924623115578 Val Acc: 49.5\n",
      "4150 Loss: 0.10491088777780533 Train Acc: 49.05527638190955 Val Acc: 49.66\n",
      "4200 Loss: 0.1011088639497757 Train Acc: 48.97989949748744 Val Acc: 49.34\n",
      "4250 Loss: 0.10271946340799332 Train Acc: 49.030150753768844 Val Acc: 49.48\n",
      "4300 Loss: 0.10600155591964722 Train Acc: 48.92462311557789 Val Acc: 49.64\n",
      "4350 Loss: 0.10062732547521591 Train Acc: 49.11055276381909 Val Acc: 49.14\n",
      "4400 Loss: 0.09492689371109009 Train Acc: 49.185929648241206 Val Acc: 49.7\n",
      "4450 Loss: 0.1018180400133133 Train Acc: 49.040201005025125 Val Acc: 49.66\n",
      "4500 Loss: 0.1014372706413269 Train Acc: 49.175879396984925 Val Acc: 49.78\n",
      "4550 Loss: 0.10608898103237152 Train Acc: 49.15075376884422 Val Acc: 49.46\n",
      "4600 Loss: 0.10681567341089249 Train Acc: 49.120603015075375 Val Acc: 49.62\n",
      "4650 Loss: 0.10273978859186172 Train Acc: 49.21105527638191 Val Acc: 49.6\n",
      "4700 Loss: 0.1024371013045311 Train Acc: 49.24120603015076 Val Acc: 49.76\n",
      "4750 Loss: 0.1030857190489769 Train Acc: 49.19095477386934 Val Acc: 49.76\n",
      "4800 Loss: 0.10347773134708405 Train Acc: 49.22613065326633 Val Acc: 49.44\n"
     ]
    }
   ],
   "source": [
    "model_transformer = Transformer(\n",
    "            num_features=14,\n",
    "            inception_depth=2, \n",
    "            inception_out=24,\n",
    "            num_heads=8,\n",
    "            num_layers=6,\n",
    "            d_ff = 256,\n",
    "            d_h = 512,\n",
    "            max_timespan = 5, # axis (1) of data\n",
    "            dropout = 0.1)\n",
    "\n",
    "train_model(model_transformer, \n",
    "# criterion=RPS_loss(),\n",
    "criterion= nn.CrossEntropyLoss(),\n",
    "train_dataset=train_dataset, \n",
    "val_dataset=val_dataset,\n",
    "learning_rate=0.00001,\n",
    "num_epochs=1000)"
   ]
  }
 ],
 "metadata": {
  "kernelspec": {
   "display_name": "Python 3.11.5 64-bit",
   "language": "python",
   "name": "python3"
  },
  "language_info": {
   "codemirror_mode": {
    "name": "ipython",
    "version": 3
   },
   "file_extension": ".py",
   "mimetype": "text/x-python",
   "name": "python",
   "nbconvert_exporter": "python",
   "pygments_lexer": "ipython3",
   "version": "3.11.5"
  },
  "vscode": {
   "interpreter": {
    "hash": "b0fa6594d8f4cbf19f97940f81e996739fb7646882a419484c72d19e05852a7e"
   }
  }
 },
 "nbformat": 4,
 "nbformat_minor": 2
}

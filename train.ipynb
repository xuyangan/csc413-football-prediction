{
 "cells": [
  {
   "cell_type": "code",
   "execution_count": 2,
   "metadata": {},
   "outputs": [],
   "source": [
    "import pandas as pd\n",
    "import torch as th\n",
    "import torch.nn as nn\n",
    "import datetime\n",
    "import glob\n",
    "\n",
    "import sys\n",
    "sys.path.append('../models/')\n",
    "from models import *"
   ]
  },
  {
   "cell_type": "code",
   "execution_count": 3,
   "metadata": {},
   "outputs": [],
   "source": [
    "def load_data():\n",
    "    # %%\n",
    "    # read from xsls file\n",
    "\n",
    "    file_pattern = 'dataset/berrar_ratings/data_recent_and_val_*.csv'\n",
    "    files = glob.glob(file_pattern)\n",
    "\n",
    "    full_df = pd.DataFrame()\n",
    "\n",
    "    for file in files:\n",
    "        df = pd.read_csv(file)\n",
    "        # change the format of the Date column\n",
    "        df['Date'] = pd.to_datetime(df['Date'], format='%d/%m/%Y')\n",
    "        full_df = pd.concat([full_df, df])\n",
    "\n",
    "    # drop the Sea, Lge, GD, WDL columns\n",
    "    full_df = full_df.drop(columns=['Sea', 'Lge', 'GD', 'WDL'])\n",
    "\n",
    "\n",
    "    # %%\n",
    "    # convert the teams to index\n",
    "    teams = full_df['HT'].unique()\n",
    "    teams.sort()\n",
    "\n",
    "    # create a dictionary to map the team names to integers\n",
    "    team_to_idx = {team: idx for idx, team in enumerate(teams)}\n",
    "    idx_to_team = {idx: team for team, idx in team_to_idx.items()}\n",
    "\n",
    "    # add the team index to the dataframe\n",
    "    full_df['HT'] = full_df['HT'].map(team_to_idx)\n",
    "    full_df['AT'] = full_df['AT'].map(team_to_idx)\n",
    "\n",
    "    # %%\n",
    "    # sort the dataframe by date\n",
    "    full_df = full_df.sort_values(by='Date')\n",
    "\n",
    "    split_date = \"14/04/2023\"\n",
    "    split_date = datetime.datetime.strptime(split_date, \"%d/%m/%Y\")\n",
    "\n",
    "    df_train = full_df[full_df['Date'] < split_date]\n",
    "    df_val = full_df[full_df['Date'] >= split_date]\n",
    "\n",
    "    training_data = th.tensor(df_train.drop(columns=['Date', 'HS', 'AS', 'HT_EG', 'AT_EG']).values, dtype=th.float32)\n",
    "    training_labels = th.tensor(df_train[['HS', 'AS']].values, dtype=th.float32)\n",
    "\n",
    "    testing_data = th.tensor(df_val.drop(columns=['Date', 'HS', 'AS', 'HT_EG', 'AT_EG']).values, dtype=th.float32)\n",
    "    testing_labels = th.tensor(df_val[['HS', 'AS']].values, dtype=th.float32)\n",
    "\n",
    "    # separate the training set into training and validation sets\n",
    "    split = int(0.8 * training_data.shape[0])\n",
    "    train_data = training_data[:split]\n",
    "    train_labels = training_labels[:split]\n",
    "    val_data = training_data[split:]\n",
    "    val_labels = training_labels[split:]\n",
    "\n",
    "\n",
    "    return train_data, train_labels, val_data, val_labels, testing_data, testing_labels, team_to_idx, idx_to_team"
   ]
  },
  {
   "cell_type": "code",
   "execution_count": 4,
   "metadata": {},
   "outputs": [],
   "source": [
    "train_data, train_labels, val_data, val_labels, testing_data, testing_labels, team_to_idx, idx_to_team = load_data()\n"
   ]
  },
  {
   "cell_type": "code",
   "execution_count": 5,
   "metadata": {},
   "outputs": [
    {
     "name": "stdout",
     "output_type": "stream",
     "text": [
      "torch.Size([3256, 1, 10, 28])\n",
      "torch.Size([3256, 1, 2, 28])\n",
      "torch.Size([813, 1, 10, 28])\n",
      "torch.Size([813, 1, 2, 28])\n",
      "torch.Size([50, 1, 10, 28])\n",
      "torch.Size([50, 1, 2, 28])\n"
     ]
    }
   ],
   "source": [
    "\n",
    "time_step = 28\n",
    "num_teams = len(team_to_idx)\n",
    "embedding_dim = 10\n",
    "in_channels = 1\n",
    "batch_size = 100\n",
    "\n",
    "for i in [train_data, train_labels, val_data, val_labels, testing_data, testing_labels]:\n",
    "    i = i.unfold(0, time_step, time_step//2).unsqueeze(1)\n",
    "    print(i.shape)\n",
    "\n",
    "data_loader = th.utils.data.DataLoader(train_data, batch_size, shuffle=True)\n",
    "\n",
    "\n"
   ]
  },
  {
   "cell_type": "code",
   "execution_count": 343,
   "metadata": {},
   "outputs": [],
   "source": [
    "# create the model\n",
    "embedding_layer = TeamEmbedding(num_teams, embedding_dim)   \n",
    "inception_model = Inceptionv2(in_channels)\n",
    "\n",
    "# # test the model with a batch of data and see the output shape\n",
    "\n",
    "for data in data_loader:\n",
    "    x = embedding_layer(data)\n",
    "    x = x.unsqueeze(1)\n",
    "    x = inception_model(x)\n"
   ]
  }
 ],
 "metadata": {
  "kernelspec": {
   "display_name": "env",
   "language": "python",
   "name": "python3"
  },
  "language_info": {
   "codemirror_mode": {
    "name": "ipython",
    "version": 3
   },
   "file_extension": ".py",
   "mimetype": "text/x-python",
   "name": "python",
   "nbconvert_exporter": "python",
   "pygments_lexer": "ipython3",
   "version": "3.10.13"
  }
 },
 "nbformat": 4,
 "nbformat_minor": 2
}

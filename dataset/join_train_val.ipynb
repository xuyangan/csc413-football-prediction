{
 "cells": [
  {
   "cell_type": "code",
   "execution_count": 13,
   "metadata": {},
   "outputs": [],
   "source": [
    "import pandas as pd"
   ]
  },
  {
   "cell_type": "code",
   "execution_count": 16,
   "metadata": {},
   "outputs": [],
   "source": [
    "# read from xsls file\n",
    "\n",
    "data_full = pd.read_excel('raw_data/TrainingSet-FINAL.xlsx')\n",
    "val_full = pd.read_excel('raw_data/PredictionSet-FINAL.xlsx')\n",
    "val_full = val_full.drop(columns=['ID'])\n",
    "\n"
   ]
  },
  {
   "cell_type": "code",
   "execution_count": 20,
   "metadata": {},
   "outputs": [
    {
     "name": "stdout",
     "output_type": "stream",
     "text": [
      "(302691, 9)\n",
      "(714, 9)\n"
     ]
    }
   ],
   "source": [
    "print(data_full.shape)\n",
    "print(val_full.shape)"
   ]
  },
  {
   "cell_type": "code",
   "execution_count": 22,
   "metadata": {},
   "outputs": [
    {
     "name": "stdout",
     "output_type": "stream",
     "text": [
      "(57716, 9)\n"
     ]
    }
   ],
   "source": [
    "# get the recent 5 seasons only\n",
    "data_recent = data_full[data_full['Sea'].isin(data_full[\"Sea\"].unique()[-5:])]\n",
    "\n",
    "# add the validation set to the training set of the recent 5 seasons\n",
    "data_recent_and_val = pd.concat([data_recent, val_full])\n",
    "print(data_recent_and_val.shape)"
   ]
  },
  {
   "cell_type": "code",
   "execution_count": 23,
   "metadata": {},
   "outputs": [],
   "source": [
    "# write back to csv \n",
    "data_recent_and_val.to_csv('split_data/data_recent_and_val.csv', index=False)"
   ]
  }
 ],
 "metadata": {
  "kernelspec": {
   "display_name": "env",
   "language": "python",
   "name": "python3"
  },
  "language_info": {
   "codemirror_mode": {
    "name": "ipython",
    "version": 3
   },
   "file_extension": ".py",
   "mimetype": "text/x-python",
   "name": "python",
   "nbconvert_exporter": "python",
   "pygments_lexer": "ipython3",
   "version": "3.12.0"
  }
 },
 "nbformat": 4,
 "nbformat_minor": 2
}

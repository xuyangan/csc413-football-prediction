{
 "cells": [
  {
   "cell_type": "code",
   "execution_count": 3,
   "metadata": {},
   "outputs": [],
   "source": [
    "import numpy as np\n",
    "import pandas as pd\n",
    "\n",
    "from pyswarms.single.global_best import GlobalBestPSO\n",
    "import warnings\n",
    "import pickle\n",
    "import time"
   ]
  },
  {
   "cell_type": "code",
   "execution_count": 4,
   "metadata": {},
   "outputs": [],
   "source": [
    "\n",
    "def calculate_expected_goals(alpha, beta_H, gamma_H, beta_A, gamma_A, o_H, d_A, o_A, d_H):\n",
    "    G_H_hat = alpha / (1 + np.exp(- beta_H * (o_H + d_A) - gamma_H))\n",
    "    G_A_hat = alpha / (1 + np.exp(- beta_A * (o_A + d_H) - gamma_A))\n",
    "    return G_H_hat, G_A_hat\n",
    "\n",
    "def update_offensive_defensive_strengths(G_H, G_H_hat, G_A, G_A_hat, o_H, d_H, o_A, d_A, omega_o_H, omega_d_H, omega_o_A, omega_d_A):\n",
    "    o_H += omega_o_H * (G_H - G_H_hat)\n",
    "    d_H += omega_d_H * (G_A - G_A_hat)\n",
    "    o_A += omega_o_A * (G_A - G_A_hat)\n",
    "    d_A += omega_d_A * (G_H - G_H_hat)\n",
    "    return o_H, d_H, o_A, d_A\n",
    "\n",
    "def individual_goal_pred_error(G_H, G_H_hat, G_A, G_A_hat):\n",
    "    f = 0.5*((G_H - G_H_hat)**2 + (G_A - G_A_hat)**2)\n",
    "    return f\n",
    "\n",
    "#ratings parameter\n",
    "alpha = 5 # max_goals = max(df['HS'].max(), df['AS'].max())\n",
    "\n",
    "beta_H = 1 # slope of the logistic function. bounds [0,5]\n",
    "beta_A = 1 \n",
    "gamma_H = 0.1 # bias, e.g., home advantage. bounds [-5,5]\n",
    "gamma_A = 0.1\n",
    "omega_o_H = 0.2 # used to control the learning rate of the update rule for the offensive and defensive strengths of each team. bounds [0, 1.5]\n",
    "omega_d_H = 0.2\n",
    "omega_o_A = 0.2\n",
    "omega_d_A = 0.2\n",
    "\n",
    "def total_goal_prediction_error(x=(beta_H, beta_A, gamma_H, gamma_A, omega_o_H, omega_d_H, omega_o_A, omega_d_A)):\n",
    "    loss=[]\n",
    "\n",
    "    beta_H = x[:,0] # slope of the logistic function. bounds [0,5]\n",
    "    beta_A = x[:,1]\n",
    "    gamma_H = x[:,2] # bias, e.g., home advantage. bounds [-5,5]\n",
    "    gamma_A = x[:,3] \n",
    "    omega_o_H = x[:,4]  # used to control the learning rate of the update rule for the offensive and defensive strengths of each team. bounds [0, 1.5]\n",
    "    omega_d_H = x[:,5] \n",
    "    omega_o_A = x[:,6] \n",
    "    omega_d_A = x[:,7]\n",
    "    team_ratings={}\n",
    "    #print(round(beta_H,2), round(gamma_H,2), round(beta_A,2), round(gamma_A,2))\n",
    "    for i in np.unique(df1[['HT', 'AT']].values):\n",
    "        team_ratings[i]=[0,0,0,0] # Home attack, Home defense, Away Attack, Away defense\n",
    "    total_goal_pred_error = 0\n",
    "    total_match=0\n",
    "    for index, row in df1.iterrows():\n",
    "        HT = row['HT']\n",
    "        HS = row['HS']\n",
    "        AT = row['AT']\n",
    "        AS = row['AS']\n",
    "\n",
    "        G_H_hat, G_A_hat = calculate_expected_goals(alpha, beta_H, gamma_H, beta_A, gamma_A,\n",
    "                                                    team_ratings[HT][0], team_ratings[AT][3],\n",
    "                                                    team_ratings[AT][2], team_ratings[HT][1])\n",
    "        G_H=HS\n",
    "        G_A=AS\n",
    "        team_ratings[HT][0] += omega_o_H * (G_H - G_H_hat)\n",
    "        team_ratings[HT][1] += omega_d_H * (G_A - G_A_hat)\n",
    "        team_ratings[AT][2] += omega_o_A * (G_A - G_A_hat)\n",
    "        team_ratings[AT][3] += omega_d_A * (G_H - G_H_hat)\n",
    "\n",
    "        total_goal_pred_error += individual_goal_pred_error(HS, G_H_hat, AS, G_A_hat)\n",
    "        total_match+=1\n",
    "    loss=total_goal_pred_error/total_match\n",
    "    #print(\"\\n\",len(loss),round(min(loss),2))\n",
    "    #import pdb; pdb.set_trace()\n",
    "    return loss\n",
    "\n",
    "def berrar_rating(dataframe,x=(beta_H, beta_A, gamma_H, gamma_A, omega_o_H, omega_d_H, omega_o_A, omega_d_A)):\n",
    "    df1=dataframe\n",
    "    beta_H = x[0] # slope of the logistic function. bounds [0,5]\n",
    "    beta_A = x[1] \n",
    "    gamma_H = x[2]  # bias, e.g., home advantage. bounds [-5,5]\n",
    "    gamma_A = x[3] \n",
    "    omega_o_H = x[4]  # used to control the learning rate of the update rule for the offensive and defensive strengths of each team. bounds [0, 1.5]\n",
    "    omega_d_H = x[5] \n",
    "    omega_o_A = x[6] \n",
    "    omega_d_A = x[7] \n",
    "    team_ratings={}\n",
    "    for i in np.unique(df1[['HT', 'AT']].values):\n",
    "        team_ratings[i]=[0,0,0,0] # Home attack, Home defense, Away Attack, Away defense\n",
    "    for index, row in df1.iterrows():\n",
    "        HT = row['HT']\n",
    "        HS = row['HS']\n",
    "        AT = row['AT']\n",
    "        AS = row['AS']\n",
    "\n",
    "        #import pdb; pdb.set_trace()\n",
    "        df1.loc[index, 'HT_H_Off_Rating'] = team_ratings[HT][0]\n",
    "        #import pdb; pdb.set_trace()\n",
    "        df1.loc[index, 'HT_H_Def_Rating'] = team_ratings[HT][1]\n",
    "        df1.loc[index, 'HT_A_Off_Rating'] = team_ratings[HT][2]\n",
    "        df1.loc[index, 'HT_A_Def_Rating'] = team_ratings[HT][3]\n",
    "        df1.loc[index, 'AT_H_Off_Rating'] = team_ratings[AT][0]\n",
    "        df1.loc[index, 'AT_H_Def_Rating'] = team_ratings[AT][1]\n",
    "        df1.loc[index, 'AT_A_Off_Rating'] = team_ratings[AT][2]\n",
    "        df1.loc[index, 'AT_A_Def_Rating'] = team_ratings[AT][3]\n",
    "\n",
    "        G_H_hat, G_A_hat = calculate_expected_goals(alpha, beta_H, gamma_H, beta_A, gamma_A,\n",
    "                                                    team_ratings[HT][0], team_ratings[AT][3],\n",
    "                                                    team_ratings[AT][2], team_ratings[HT][1])\n",
    "        \n",
    "        df1.loc[index, 'HT_EG'] = G_H_hat\n",
    "        df1.loc[index, 'AT_EG'] = G_A_hat\n",
    "\n",
    "        team_ratings[HT][0],team_ratings[HT][1],team_ratings[AT][2],team_ratings[AT][3] = \\\n",
    "            update_offensive_defensive_strengths(HS, G_H_hat, AS, G_A_hat,team_ratings[HT][0], team_ratings[HT][1], team_ratings[AT][2], team_ratings[AT][3],omega_o_H, omega_d_H, omega_o_A, omega_d_A)\n",
    "    return df1,team_ratings\n",
    "\n",
    "def berrar_rating_valid(dataframe,team_ratings_dict,x=(beta_H, beta_A, gamma_H, gamma_A, omega_o_H, omega_d_H, omega_o_A, omega_d_A)):\n",
    "    df1=dataframe\n",
    "    beta_H = x[0] # slope of the logistic function. bounds [0,5]\n",
    "    beta_A = x[1] \n",
    "    gamma_H = x[2]  # bias, e.g., home advantage. bounds [-5,5]\n",
    "    gamma_A = x[3] \n",
    "    omega_o_H = x[4]  # used to control the learning rate of the update rule for the offensive and defensive strengths of each team. bounds [0, 1.5]\n",
    "    omega_d_H = x[5] \n",
    "    omega_o_A = x[6] \n",
    "    omega_d_A = x[7] \n",
    "    team_ratings=team_ratings_dict\n",
    "    for index, row in df1.iterrows():\n",
    "        HT = row['HT']\n",
    "        HS = row['HS']\n",
    "        AT = row['AT']\n",
    "        AS = row['AS']\n",
    "\n",
    "        #import pdb; pdb.set_trace()\n",
    "        df1.loc[index, 'HT_H_Off_Rating'] = team_ratings[HT][0]\n",
    "        #import pdb; pdb.set_trace()\n",
    "        df1.loc[index, 'HT_H_Def_Rating'] = team_ratings[HT][1]\n",
    "        df1.loc[index, 'HT_A_Off_Rating'] = team_ratings[HT][2]\n",
    "        df1.loc[index, 'HT_A_Def_Rating'] = team_ratings[HT][3]\n",
    "        df1.loc[index, 'AT_H_Off_Rating'] = team_ratings[AT][0]\n",
    "        df1.loc[index, 'AT_H_Def_Rating'] = team_ratings[AT][1]\n",
    "        df1.loc[index, 'AT_A_Off_Rating'] = team_ratings[AT][2]\n",
    "        df1.loc[index, 'AT_A_Def_Rating'] = team_ratings[AT][3]\n",
    "\n",
    "        G_H_hat, G_A_hat = calculate_expected_goals(alpha, beta_H, gamma_H, beta_A, gamma_A,\n",
    "                                                    team_ratings[HT][0], team_ratings[AT][3],\n",
    "                                                    team_ratings[AT][2], team_ratings[HT][1])\n",
    "        \n",
    "        df1.loc[index, 'HT_EG'] = G_H_hat\n",
    "        df1.loc[index, 'AT_EG'] = G_A_hat\n",
    "\n",
    "        team_ratings[HT][0],team_ratings[HT][1],team_ratings[AT][2],team_ratings[AT][3] = \\\n",
    "            update_offensive_defensive_strengths(HS, G_H_hat, AS, G_A_hat,team_ratings[HT][0], team_ratings[HT][1], team_ratings[AT][2], team_ratings[AT][3],omega_o_H, omega_d_H, omega_o_A, omega_d_A)\n",
    "    return df1,team_ratings\n",
    "\n",
    "def berrar_rating_valid_final(dataframe,team_ratings_dict,x=(beta_H, beta_A, gamma_H, gamma_A, omega_o_H, omega_d_H, omega_o_A, omega_d_A)):\n",
    "    df1=dataframe\n",
    "    beta_H = x[0] # slope of the logistic function. bounds [0,5]\n",
    "    beta_A = x[1] \n",
    "    gamma_H = x[2]  # bias, e.g., home advantage. bounds [-5,5]\n",
    "    gamma_A = x[3] \n",
    "    omega_o_H = x[4]  # used to control the learning rate of the update rule for the offensive and defensive strengths of each team. bounds [0, 1.5]\n",
    "    omega_d_H = x[5] \n",
    "    omega_o_A = x[6] \n",
    "    omega_d_A = x[7] \n",
    "    team_ratings=team_ratings_dict\n",
    "\n",
    "    HT = df1['HT']\n",
    "    AT = df1['AT']\n",
    "\n",
    "\n",
    "    G_H_hat, G_A_hat = calculate_expected_goals(alpha, beta_H, gamma_H, beta_A, gamma_A,\n",
    "                                                team_ratings[HT][0], team_ratings[AT][3],\n",
    "                                                team_ratings[AT][2], team_ratings[HT][1])\n",
    "    \n",
    "    return G_H_hat,G_A_hat\n"
   ]
  },
  {
   "cell_type": "code",
   "execution_count": 6,
   "metadata": {},
   "outputs": [
    {
     "name": "stderr",
     "output_type": "stream",
     "text": [
      "2024-04-10 18:29:21,888 - pyswarms.single.global_best - INFO - Optimize for 200 iters with {'c1': 0.5, 'c2': 0.3, 'w': 0.9}\n"
     ]
    },
    {
     "name": "stdout",
     "output_type": "stream",
     "text": [
      "GER1\n"
     ]
    },
    {
     "name": "stderr",
     "output_type": "stream",
     "text": [
      "pyswarms.single.global_best: 100%|██████████|200/200, best_cost=1.66\n",
      "2024-04-10 18:29:29,418 - pyswarms.single.global_best - INFO - Optimization finished | best cost: 1.663829672318365, best pos: [ 0.0230523   0.14493361 -0.64951783 -0.74001006  1.1292672   0.21861453\n",
      "  0.48655795  0.45180492]\n",
      "2024-04-10 18:29:30,008 - pyswarms.single.global_best - INFO - Optimize for 200 iters with {'c1': 0.5, 'c2': 0.3, 'w': 0.9}\n"
     ]
    },
    {
     "name": "stdout",
     "output_type": "stream",
     "text": [
      "ENG1\n"
     ]
    },
    {
     "name": "stderr",
     "output_type": "stream",
     "text": [
      "pyswarms.single.global_best: 100%|██████████|200/200, best_cost=1.48\n",
      "2024-04-10 18:29:39,212 - pyswarms.single.global_best - INFO - Optimization finished | best cost: 1.4815211378091293, best pos: [ 0.16210102  0.03431639 -1.06373312 -1.22931399  0.26435031  0.58409691\n",
      "  0.95583873  0.26623332]\n",
      "2024-04-10 18:29:39,922 - pyswarms.single.global_best - INFO - Optimize for 200 iters with {'c1': 0.5, 'c2': 0.3, 'w': 0.9}\n"
     ]
    },
    {
     "name": "stdout",
     "output_type": "stream",
     "text": [
      "ENG2\n"
     ]
    },
    {
     "name": "stderr",
     "output_type": "stream",
     "text": [
      "pyswarms.single.global_best: 100%|██████████|200/200, best_cost=1.27\n",
      "2024-04-10 18:29:53,409 - pyswarms.single.global_best - INFO - Optimization finished | best cost: 1.2747200860756627, best pos: [ 0.04070845  0.11351008 -1.08841779 -1.37694439  0.46446125  0.3867843\n",
      "  0.37979972  0.4734067 ]\n",
      "2024-04-10 18:29:54,459 - pyswarms.single.global_best - INFO - Optimize for 200 iters with {'c1': 0.5, 'c2': 0.3, 'w': 0.9}\n"
     ]
    },
    {
     "name": "stdout",
     "output_type": "stream",
     "text": [
      "ENG3\n"
     ]
    },
    {
     "name": "stderr",
     "output_type": "stream",
     "text": [
      "pyswarms.single.global_best: 100%|██████████|200/200, best_cost=1.4 \n",
      "2024-04-10 18:30:07,131 - pyswarms.single.global_best - INFO - Optimization finished | best cost: 1.4033494288253436, best pos: [ 0.07324202  0.05282068 -1.43849373 -1.1547424   0.5884057   0.4352857\n",
      "  0.37180464  0.79832485]\n",
      "2024-04-10 18:30:08,139 - pyswarms.single.global_best - INFO - Optimize for 200 iters with {'c1': 0.5, 'c2': 0.3, 'w': 0.9}\n"
     ]
    },
    {
     "name": "stdout",
     "output_type": "stream",
     "text": [
      "ENG4\n"
     ]
    },
    {
     "name": "stderr",
     "output_type": "stream",
     "text": [
      "pyswarms.single.global_best: 100%|██████████|200/200, best_cost=1.17\n",
      "2024-04-10 18:30:21,054 - pyswarms.single.global_best - INFO - Optimization finished | best cost: 1.173475437816533, best pos: [ 0.0275221   0.07857207 -1.01787257 -1.53175626  0.62877708  0.4484791\n",
      "  0.28817425  0.76692418]\n",
      "2024-04-10 18:30:22,064 - pyswarms.single.global_best - INFO - Optimize for 200 iters with {'c1': 0.5, 'c2': 0.3, 'w': 0.9}\n"
     ]
    },
    {
     "name": "stdout",
     "output_type": "stream",
     "text": [
      "ITA1\n"
     ]
    },
    {
     "name": "stderr",
     "output_type": "stream",
     "text": [
      "pyswarms.single.global_best: 100%|██████████|200/200, best_cost=1.39\n",
      "2024-04-10 18:30:31,245 - pyswarms.single.global_best - INFO - Optimization finished | best cost: 1.3937269612825391, best pos: [ 0.0604903   0.09199    -1.41655173 -1.11753714  1.07198224  0.78534096\n",
      "  0.73346191  1.22019342]\n",
      "2024-04-10 18:30:31,966 - pyswarms.single.global_best - INFO - Optimize for 200 iters with {'c1': 0.5, 'c2': 0.3, 'w': 0.9}\n"
     ]
    },
    {
     "name": "stdout",
     "output_type": "stream",
     "text": [
      "ITA2\n"
     ]
    },
    {
     "name": "stderr",
     "output_type": "stream",
     "text": [
      "pyswarms.single.global_best: 100%|██████████|200/200, best_cost=1.18\n",
      "2024-04-10 18:30:41,572 - pyswarms.single.global_best - INFO - Optimization finished | best cost: 1.1759355825358129, best pos: [ 0.09683993  0.68115187 -1.07718493 -0.95057637  0.55894375  0.03026774\n",
      "  0.07385525  0.29251303]\n",
      "2024-04-10 18:30:42,338 - pyswarms.single.global_best - INFO - Optimize for 200 iters with {'c1': 0.5, 'c2': 0.3, 'w': 0.9}\n"
     ]
    },
    {
     "name": "stdout",
     "output_type": "stream",
     "text": [
      "HOL1\n"
     ]
    },
    {
     "name": "stderr",
     "output_type": "stream",
     "text": [
      "pyswarms.single.global_best: 100%|██████████|200/200, best_cost=1.6 \n",
      "2024-04-10 18:30:49,479 - pyswarms.single.global_best - INFO - Optimization finished | best cost: 1.6002375648654072, best pos: [ 0.15164193  0.18796833 -0.98364633 -0.64154525  0.44242899  0.23471728\n",
      "  0.27675703  0.21629714]\n",
      "2024-04-10 18:30:50,092 - pyswarms.single.global_best - INFO - Optimize for 200 iters with {'c1': 0.5, 'c2': 0.3, 'w': 0.9}\n"
     ]
    },
    {
     "name": "stdout",
     "output_type": "stream",
     "text": [
      "SCO1\n"
     ]
    },
    {
     "name": "stderr",
     "output_type": "stream",
     "text": [
      "pyswarms.single.global_best: 100%|██████████|200/200, best_cost=1.36\n",
      "2024-04-10 18:30:55,715 - pyswarms.single.global_best - INFO - Optimization finished | best cost: 1.3560244334314737, best pos: [ 0.05272108  0.06715831 -1.17625423 -2.4926156   1.19238497  1.12025584\n",
      "  0.98624241  0.79639259]\n",
      "2024-04-10 18:30:56,202 - pyswarms.single.global_best - INFO - Optimize for 200 iters with {'c1': 0.5, 'c2': 0.3, 'w': 0.9}\n"
     ]
    },
    {
     "name": "stdout",
     "output_type": "stream",
     "text": [
      "SCO2\n"
     ]
    },
    {
     "name": "stderr",
     "output_type": "stream",
     "text": [
      "pyswarms.single.global_best: 100%|██████████|200/200, best_cost=1.57\n",
      "2024-04-10 18:31:00,362 - pyswarms.single.global_best - INFO - Optimization finished | best cost: 1.5687194006392533, best pos: [ 0.03175967  0.07699884 -0.2713717  -1.83542252  1.21301737  0.798007\n",
      "  0.83223068  1.07475136]\n",
      "2024-04-10 18:31:00,680 - pyswarms.single.global_best - INFO - Optimize for 200 iters with {'c1': 0.5, 'c2': 0.3, 'w': 0.9}\n"
     ]
    },
    {
     "name": "stdout",
     "output_type": "stream",
     "text": [
      "SCO3\n"
     ]
    },
    {
     "name": "stderr",
     "output_type": "stream",
     "text": [
      "pyswarms.single.global_best: 100%|██████████|200/200, best_cost=1.55\n",
      "2024-04-10 18:31:04,592 - pyswarms.single.global_best - INFO - Optimization finished | best cost: 1.5517268832400601, best pos: [ 0.14732467  0.35781697 -0.67770197 -2.14825067  0.74295665  0.13682174\n",
      "  0.30118627  0.39331543]\n",
      "2024-04-10 18:31:04,903 - pyswarms.single.global_best - INFO - Optimize for 200 iters with {'c1': 0.5, 'c2': 0.3, 'w': 0.9}\n"
     ]
    },
    {
     "name": "stdout",
     "output_type": "stream",
     "text": [
      "SCO4\n"
     ]
    },
    {
     "name": "stderr",
     "output_type": "stream",
     "text": [
      "pyswarms.single.global_best: 100%|██████████|200/200, best_cost=1.46\n",
      "2024-04-10 18:31:08,785 - pyswarms.single.global_best - INFO - Optimization finished | best cost: 1.457980385510229, best pos: [ 0.04171067  0.09463405 -1.05669276 -1.47509479  1.39885021  0.43442092\n",
      "  0.68442212  1.09688043]\n",
      "2024-04-10 18:31:09,093 - pyswarms.single.global_best - INFO - Optimize for 200 iters with {'c1': 0.5, 'c2': 0.3, 'w': 0.9}\n"
     ]
    },
    {
     "name": "stdout",
     "output_type": "stream",
     "text": [
      "SPA1\n"
     ]
    },
    {
     "name": "stderr",
     "output_type": "stream",
     "text": [
      "pyswarms.single.global_best: 100%|██████████|200/200, best_cost=1.21\n",
      "2024-04-10 18:31:18,231 - pyswarms.single.global_best - INFO - Optimization finished | best cost: 1.2146992696712784, best pos: [ 0.1129261   0.03295242 -0.81522397 -1.15196431  0.56134983  1.33296237\n",
      "  0.61653792  0.30029936]\n",
      "2024-04-10 18:31:18,948 - pyswarms.single.global_best - INFO - Optimize for 200 iters with {'c1': 0.5, 'c2': 0.3, 'w': 0.9}\n"
     ]
    },
    {
     "name": "stdout",
     "output_type": "stream",
     "text": [
      "SPA2\n"
     ]
    },
    {
     "name": "stderr",
     "output_type": "stream",
     "text": [
      "pyswarms.single.global_best: 100%|██████████|200/200, best_cost=1.02\n",
      "2024-04-10 18:31:30,311 - pyswarms.single.global_best - INFO - Optimization finished | best cost: 1.0226053693980228, best pos: [ 0.05773151  0.1340832  -1.13868889 -1.29007943  0.61282942  0.64066027\n",
      "  0.51065013  0.74927242]\n",
      "2024-04-10 18:31:31,204 - pyswarms.single.global_best - INFO - Optimize for 200 iters with {'c1': 0.5, 'c2': 0.3, 'w': 0.9}\n"
     ]
    },
    {
     "name": "stdout",
     "output_type": "stream",
     "text": [
      "FRA1\n"
     ]
    },
    {
     "name": "stderr",
     "output_type": "stream",
     "text": [
      "pyswarms.single.global_best: 100%|██████████|200/200, best_cost=1.36\n",
      "2024-04-10 18:31:39,791 - pyswarms.single.global_best - INFO - Optimization finished | best cost: 1.3573926963128664, best pos: [ 0.15823826  0.08846949 -0.87704036 -1.43760985  0.29115581  0.95637615\n",
      "  0.52196688  0.36672316]\n",
      "2024-04-10 18:31:40,482 - pyswarms.single.global_best - INFO - Optimize for 200 iters with {'c1': 0.5, 'c2': 0.3, 'w': 0.9}\n"
     ]
    },
    {
     "name": "stdout",
     "output_type": "stream",
     "text": [
      "FRA2\n"
     ]
    },
    {
     "name": "stderr",
     "output_type": "stream",
     "text": [
      "pyswarms.single.global_best: 100%|██████████|200/200, best_cost=1.2\n",
      "2024-04-10 18:31:49,073 - pyswarms.single.global_best - INFO - Optimization finished | best cost: 1.201793824155846, best pos: [ 0.66410655  0.05500748 -1.53622038 -1.4753036   0.04876302  0.76026025\n",
      "  1.07886556  0.04752759]\n",
      "2024-04-10 18:31:49,772 - pyswarms.single.global_best - INFO - Optimize for 200 iters with {'c1': 0.5, 'c2': 0.3, 'w': 0.9}\n"
     ]
    },
    {
     "name": "stdout",
     "output_type": "stream",
     "text": [
      "BEL1\n"
     ]
    },
    {
     "name": "stderr",
     "output_type": "stream",
     "text": [
      "pyswarms.single.global_best: 100%|██████████|200/200, best_cost=1.5 \n",
      "2024-04-10 18:31:57,415 - pyswarms.single.global_best - INFO - Optimization finished | best cost: 1.5046906444823416, best pos: [ 0.17626022  0.18281642 -0.58374301 -2.11648183  0.35260742  0.55993426\n",
      "  0.58838487  0.24396255]\n",
      "2024-04-10 18:31:58,024 - pyswarms.single.global_best - INFO - Optimize for 200 iters with {'c1': 0.5, 'c2': 0.3, 'w': 0.9}\n"
     ]
    },
    {
     "name": "stdout",
     "output_type": "stream",
     "text": [
      "GRE1\n"
     ]
    },
    {
     "name": "stderr",
     "output_type": "stream",
     "text": [
      "pyswarms.single.global_best: 100%|██████████|200/200, best_cost=1.14\n",
      "2024-04-10 18:32:03,975 - pyswarms.single.global_best - INFO - Optimization finished | best cost: 1.1385229768896474, best pos: [ 0.17571226  0.32713141 -0.83745297 -1.29664476  0.46535616  0.19461904\n",
      "  0.09387638  0.3981834 ]\n",
      "2024-04-10 18:32:04,446 - pyswarms.single.global_best - INFO - Optimize for 200 iters with {'c1': 0.5, 'c2': 0.3, 'w': 0.9}\n"
     ]
    },
    {
     "name": "stdout",
     "output_type": "stream",
     "text": [
      "POR1\n"
     ]
    },
    {
     "name": "stderr",
     "output_type": "stream",
     "text": [
      "pyswarms.single.global_best: 100%|██████████|200/200, best_cost=1.22\n",
      "2024-04-10 18:32:11,944 - pyswarms.single.global_best - INFO - Optimization finished | best cost: 1.2151356162482334, best pos: [ 0.10911203  0.62877261 -1.60446345 -1.36751512  0.42471464  0.02698846\n",
      "  0.12586228  0.5440753 ]\n",
      "2024-04-10 18:32:12,545 - pyswarms.single.global_best - INFO - Optimize for 200 iters with {'c1': 0.5, 'c2': 0.3, 'w': 0.9}\n"
     ]
    },
    {
     "name": "stdout",
     "output_type": "stream",
     "text": [
      "ARG1\n"
     ]
    },
    {
     "name": "stderr",
     "output_type": "stream",
     "text": [
      "pyswarms.single.global_best: 100%|██████████|200/200, best_cost=1.24\n",
      "2024-04-10 18:32:20,647 - pyswarms.single.global_best - INFO - Optimization finished | best cost: 1.242785102571376, best pos: [ 0.42740985  0.13296502 -0.65649415 -1.86524899  0.07309549  0.22592249\n",
      "  0.53499453  0.14887025]\n",
      "2024-04-10 18:32:21,298 - pyswarms.single.global_best - INFO - Optimize for 200 iters with {'c1': 0.5, 'c2': 0.3, 'w': 0.9}\n"
     ]
    },
    {
     "name": "stdout",
     "output_type": "stream",
     "text": [
      "RUS1\n"
     ]
    },
    {
     "name": "stderr",
     "output_type": "stream",
     "text": [
      "pyswarms.single.global_best: 100%|██████████|200/200, best_cost=1.45\n",
      "2024-04-10 18:32:27,297 - pyswarms.single.global_best - INFO - Optimization finished | best cost: 1.4530055291407247, best pos: [ 2.02841403  0.07454014 -1.14898997 -1.11284672  0.0884888   1.10293646\n",
      "  0.82563292  0.0184067 ]\n",
      "2024-04-10 18:32:27,749 - pyswarms.single.global_best - INFO - Optimize for 200 iters with {'c1': 0.5, 'c2': 0.3, 'w': 0.9}\n"
     ]
    },
    {
     "name": "stdout",
     "output_type": "stream",
     "text": [
      "AUS1\n"
     ]
    },
    {
     "name": "stderr",
     "output_type": "stream",
     "text": [
      "pyswarms.single.global_best: 100%|██████████|200/200, best_cost=1.47\n",
      "2024-04-10 18:32:31,730 - pyswarms.single.global_best - INFO - Optimization finished | best cost: 1.4684101649106656, best pos: [ 0.00716296  0.10703286 -0.79457052 -1.01324533  0.80823397  0.20337158\n",
      "  0.53152448  0.24671195]\n",
      "2024-04-10 18:32:32,048 - pyswarms.single.global_best - INFO - Optimize for 200 iters with {'c1': 0.5, 'c2': 0.3, 'w': 0.9}\n"
     ]
    },
    {
     "name": "stdout",
     "output_type": "stream",
     "text": [
      "CHE1\n"
     ]
    },
    {
     "name": "stderr",
     "output_type": "stream",
     "text": [
      "pyswarms.single.global_best: 100%|██████████|200/200, best_cost=1.5 \n",
      "2024-04-10 18:32:36,408 - pyswarms.single.global_best - INFO - Optimization finished | best cost: 1.501728680703372, best pos: [ 0.04459054  0.03752991 -0.44707305 -0.72190767  0.70556881  0.71475124\n",
      "  0.80617028  0.87767951]\n",
      "2024-04-10 18:32:36,754 - pyswarms.single.global_best - INFO - Optimize for 200 iters with {'c1': 0.5, 'c2': 0.3, 'w': 0.9}\n"
     ]
    },
    {
     "name": "stdout",
     "output_type": "stream",
     "text": [
      "SWE1\n"
     ]
    },
    {
     "name": "stderr",
     "output_type": "stream",
     "text": [
      "pyswarms.single.global_best: 100%|██████████|200/200, best_cost=1.34\n",
      "2024-04-10 18:32:42,827 - pyswarms.single.global_best - INFO - Optimization finished | best cost: 1.3379971590740147, best pos: [ 0.11001587  0.14421113 -0.70400136 -1.42950713  0.47764053  0.46310864\n",
      "  0.49273313  0.46890436]\n",
      "2024-04-10 18:32:43,316 - pyswarms.single.global_best - INFO - Optimize for 200 iters with {'c1': 0.5, 'c2': 0.3, 'w': 0.9}\n"
     ]
    },
    {
     "name": "stdout",
     "output_type": "stream",
     "text": [
      "AUT1\n"
     ]
    },
    {
     "name": "stderr",
     "output_type": "stream",
     "text": [
      "pyswarms.single.global_best: 100%|██████████|200/200, best_cost=1.63\n",
      "2024-04-10 18:32:47,842 - pyswarms.single.global_best - INFO - Optimization finished | best cost: 1.6318847296069285, best pos: [ 0.13318903  0.24850094 -0.79528863 -0.62281358  0.53121137  0.17322416\n",
      "  0.16455002  0.15632685]\n",
      "2024-04-10 18:32:48,201 - pyswarms.single.global_best - INFO - Optimize for 200 iters with {'c1': 0.5, 'c2': 0.3, 'w': 0.9}\n"
     ]
    },
    {
     "name": "stdout",
     "output_type": "stream",
     "text": [
      "DNK1\n"
     ]
    },
    {
     "name": "stderr",
     "output_type": "stream",
     "text": [
      "pyswarms.single.global_best: 100%|██████████|200/200, best_cost=1.26\n",
      "2024-04-10 18:32:52,783 - pyswarms.single.global_best - INFO - Optimization finished | best cost: 1.2577432384342575, best pos: [ 0.02133003  0.13460546 -0.83320565 -1.14066625  0.64562001  0.70110367\n",
      "  0.39857171  0.95899054]\n",
      "2024-04-10 18:32:53,140 - pyswarms.single.global_best - INFO - Optimize for 200 iters with {'c1': 0.5, 'c2': 0.3, 'w': 0.9}\n"
     ]
    },
    {
     "name": "stdout",
     "output_type": "stream",
     "text": [
      "GER2\n"
     ]
    },
    {
     "name": "stderr",
     "output_type": "stream",
     "text": [
      "pyswarms.single.global_best: 100%|██████████|200/200, best_cost=1.61\n",
      "2024-04-10 18:33:00,558 - pyswarms.single.global_best - INFO - Optimization finished | best cost: 1.605673530043421, best pos: [ 0.16670753  0.06927342  0.92690071 -0.80650409  0.83992416  0.75033967\n",
      "  0.70490578  0.55556975]\n",
      "2024-04-10 18:33:01,150 - pyswarms.single.global_best - INFO - Optimize for 200 iters with {'c1': 0.5, 'c2': 0.3, 'w': 0.9}\n"
     ]
    },
    {
     "name": "stdout",
     "output_type": "stream",
     "text": [
      "MEX1\n"
     ]
    },
    {
     "name": "stderr",
     "output_type": "stream",
     "text": [
      "pyswarms.single.global_best: 100%|██████████|200/200, best_cost=1.3 \n",
      "2024-04-10 18:33:09,324 - pyswarms.single.global_best - INFO - Optimization finished | best cost: 1.3031836202357963, best pos: [ 0.03977024  0.09971489 -1.13670056 -1.50719846  0.57149231  0.28821617\n",
      "  0.33583181  0.20805433]\n",
      "2024-04-10 18:33:09,965 - pyswarms.single.global_best - INFO - Optimize for 200 iters with {'c1': 0.5, 'c2': 0.3, 'w': 0.9}\n"
     ]
    },
    {
     "name": "stdout",
     "output_type": "stream",
     "text": [
      "ISR1\n"
     ]
    },
    {
     "name": "stderr",
     "output_type": "stream",
     "text": [
      "pyswarms.single.global_best: 100%|██████████|200/200, best_cost=1.36\n",
      "2024-04-10 18:33:11,459 - pyswarms.single.global_best - INFO - Optimization finished | best cost: 1.3572243228754655, best pos: [ 0.09157855  0.12624433 -1.47163386 -1.56850998  1.21588251  0.64719569\n",
      "  0.90604696  0.69278116]\n",
      "2024-04-10 18:33:11,573 - pyswarms.single.global_best - INFO - Optimize for 200 iters with {'c1': 0.5, 'c2': 0.3, 'w': 0.9}\n"
     ]
    },
    {
     "name": "stdout",
     "output_type": "stream",
     "text": [
      "FIN1\n"
     ]
    },
    {
     "name": "stderr",
     "output_type": "stream",
     "text": [
      "pyswarms.single.global_best: 100%|██████████|200/200, best_cost=1.29\n",
      "2024-04-10 18:33:14,676 - pyswarms.single.global_best - INFO - Optimization finished | best cost: 1.2949124971280959, best pos: [ 0.09905     0.16310028 -1.27455208 -1.25804692  0.62997587  0.5425249\n",
      "  0.18722301  0.89396256]\n",
      "2024-04-10 18:33:14,920 - pyswarms.single.global_best - INFO - Optimize for 200 iters with {'c1': 0.5, 'c2': 0.3, 'w': 0.9}\n"
     ]
    },
    {
     "name": "stdout",
     "output_type": "stream",
     "text": [
      "BRA1\n"
     ]
    },
    {
     "name": "stderr",
     "output_type": "stream",
     "text": [
      "pyswarms.single.global_best: 100%|██████████|200/200, best_cost=1.12\n",
      "2024-04-10 18:33:24,581 - pyswarms.single.global_best - INFO - Optimization finished | best cost: 1.1194011134572592, best pos: [ 0.08701888  0.09088213 -0.71916667 -2.24802272  1.13954271  1.12926334\n",
      "  0.42680502  0.74411772]\n",
      "2024-04-10 18:33:25,337 - pyswarms.single.global_best - INFO - Optimize for 200 iters with {'c1': 0.5, 'c2': 0.3, 'w': 0.9}\n"
     ]
    },
    {
     "name": "stdout",
     "output_type": "stream",
     "text": [
      "JPN1\n"
     ]
    },
    {
     "name": "stderr",
     "output_type": "stream",
     "text": [
      "pyswarms.single.global_best: 100%|██████████|200/200, best_cost=1.42\n",
      "2024-04-10 18:33:34,348 - pyswarms.single.global_best - INFO - Optimization finished | best cost: 1.4164199731557188, best pos: [ 0.05166461  0.09602735 -0.85688599 -0.16448414  0.77927416  1.11587613\n",
      "  0.48528947  0.35369589]\n",
      "2024-04-10 18:33:35,091 - pyswarms.single.global_best - INFO - Optimize for 200 iters with {'c1': 0.5, 'c2': 0.3, 'w': 0.9}\n"
     ]
    },
    {
     "name": "stdout",
     "output_type": "stream",
     "text": [
      "KOR1\n"
     ]
    },
    {
     "name": "stderr",
     "output_type": "stream",
     "text": [
      "pyswarms.single.global_best: 100%|██████████|200/200, best_cost=1.25\n",
      "2024-04-10 18:33:41,271 - pyswarms.single.global_best - INFO - Optimization finished | best cost: 1.2494182763686625, best pos: [ 0.06065128  0.06939857 -1.26960023 -1.13580062  0.72879787  0.51231395\n",
      "  0.65940479  0.41953302]\n",
      "2024-04-10 18:33:41,751 - pyswarms.single.global_best - INFO - Optimize for 200 iters with {'c1': 0.5, 'c2': 0.3, 'w': 0.9}\n"
     ]
    },
    {
     "name": "stdout",
     "output_type": "stream",
     "text": [
      "ZAF1\n"
     ]
    },
    {
     "name": "stderr",
     "output_type": "stream",
     "text": [
      "pyswarms.single.global_best: 100%|██████████|200/200, best_cost=0.983\n",
      "2024-04-10 18:33:48,019 - pyswarms.single.global_best - INFO - Optimization finished | best cost: 0.982989371616551, best pos: [ 0.05688092  0.25622025 -1.30366129 -1.37161548  1.45232505  0.05276056\n",
      "  0.39402347  0.74914052]\n",
      "2024-04-10 18:33:48,498 - pyswarms.single.global_best - INFO - Optimize for 200 iters with {'c1': 0.5, 'c2': 0.3, 'w': 0.9}\n"
     ]
    },
    {
     "name": "stdout",
     "output_type": "stream",
     "text": [
      "CHL1\n"
     ]
    },
    {
     "name": "stderr",
     "output_type": "stream",
     "text": [
      "pyswarms.single.global_best: 100%|██████████|200/200, best_cost=1.29\n",
      "2024-04-10 18:33:55,671 - pyswarms.single.global_best - INFO - Optimization finished | best cost: 1.2948345851529848, best pos: [ 0.06977597  0.96553465 -0.41888699 -1.66861789  0.81762835  0.15944104\n",
      "  0.0915675   0.35491329]\n",
      "2024-04-10 18:33:56,268 - pyswarms.single.global_best - INFO - Optimize for 200 iters with {'c1': 0.5, 'c2': 0.3, 'w': 0.9}\n"
     ]
    },
    {
     "name": "stdout",
     "output_type": "stream",
     "text": [
      "ENG5\n"
     ]
    },
    {
     "name": "stderr",
     "output_type": "stream",
     "text": [
      "pyswarms.single.global_best: 100%|██████████|200/200, best_cost=1.44\n",
      "2024-04-10 18:34:08,719 - pyswarms.single.global_best - INFO - Optimization finished | best cost: 1.4397846196470336, best pos: [ 0.18326728  0.19000891 -1.00311634 -1.0836451   0.60994715  0.25367584\n",
      "  0.12469484  0.23477017]\n",
      "2024-04-10 18:34:09,688 - pyswarms.single.global_best - INFO - Optimize for 200 iters with {'c1': 0.5, 'c2': 0.3, 'w': 0.9}\n"
     ]
    },
    {
     "name": "stdout",
     "output_type": "stream",
     "text": [
      "DZA1\n"
     ]
    },
    {
     "name": "stderr",
     "output_type": "stream",
     "text": [
      "pyswarms.single.global_best: 100%|██████████|200/200, best_cost=1.2 \n",
      "2024-04-10 18:34:16,402 - pyswarms.single.global_best - INFO - Optimization finished | best cost: 1.2027298374199356, best pos: [ 0.33365046  0.10555847 -0.79098213 -1.63117817  0.26251973  0.82994246\n",
      "  0.36084463  0.20892538]\n",
      "2024-04-10 18:34:16,912 - pyswarms.single.global_best - INFO - Optimize for 200 iters with {'c1': 0.5, 'c2': 0.3, 'w': 0.9}\n"
     ]
    },
    {
     "name": "stdout",
     "output_type": "stream",
     "text": [
      "MAR1\n"
     ]
    },
    {
     "name": "stderr",
     "output_type": "stream",
     "text": [
      "pyswarms.single.global_best: 100%|██████████|200/200, best_cost=1.04\n",
      "2024-04-10 18:34:22,793 - pyswarms.single.global_best - INFO - Optimization finished | best cost: 1.0406410008029876, best pos: [ 0.06837472  0.09579142 -1.64966543 -2.23403977  0.55630453  0.70925034\n",
      "  1.48518283  1.20086097]\n",
      "2024-04-10 18:34:23,268 - pyswarms.single.global_best - INFO - Optimize for 200 iters with {'c1': 0.5, 'c2': 0.3, 'w': 0.9}\n"
     ]
    },
    {
     "name": "stdout",
     "output_type": "stream",
     "text": [
      "TUN1\n"
     ]
    },
    {
     "name": "stderr",
     "output_type": "stream",
     "text": [
      "pyswarms.single.global_best: 100%|██████████|200/200, best_cost=0.945\n",
      "2024-04-10 18:34:27,512 - pyswarms.single.global_best - INFO - Optimization finished | best cost: 0.9452740871040058, best pos: [ 0.13554238  0.07146807 -1.22660342 -2.20980126  0.40172538  1.21088986\n",
      "  0.75827685  0.60466933]\n",
      "2024-04-10 18:34:27,843 - pyswarms.single.global_best - INFO - Optimize for 200 iters with {'c1': 0.5, 'c2': 0.3, 'w': 0.9}\n"
     ]
    },
    {
     "name": "stdout",
     "output_type": "stream",
     "text": [
      "ECU1\n"
     ]
    },
    {
     "name": "stderr",
     "output_type": "stream",
     "text": [
      "pyswarms.single.global_best: 100%|██████████|200/200, best_cost=1.27\n",
      "2024-04-10 18:34:34,580 - pyswarms.single.global_best - INFO - Optimization finished | best cost: 1.2689415868468379, best pos: [ 0.07572074  0.07772007 -0.84838606 -0.71630529  0.34986326  0.89662032\n",
      "  0.94589991  0.93868996]\n",
      "2024-04-10 18:34:35,103 - pyswarms.single.global_best - INFO - Optimize for 200 iters with {'c1': 0.5, 'c2': 0.3, 'w': 0.9}\n"
     ]
    },
    {
     "name": "stdout",
     "output_type": "stream",
     "text": [
      "VEN1\n"
     ]
    },
    {
     "name": "stderr",
     "output_type": "stream",
     "text": [
      "pyswarms.single.global_best: 100%|██████████|200/200, best_cost=1.3 \n",
      "2024-04-10 18:34:42,716 - pyswarms.single.global_best - INFO - Optimization finished | best cost: 1.3017860113232214, best pos: [ 0.07361146  0.03648266 -1.10982168 -1.21390667  0.30785423  1.47563001\n",
      "  0.54318709  0.75506271]\n",
      "2024-04-10 18:34:43,297 - pyswarms.single.global_best - INFO - Optimize for 200 iters with {'c1': 0.5, 'c2': 0.3, 'w': 0.9}\n"
     ]
    },
    {
     "name": "stdout",
     "output_type": "stream",
     "text": [
      "GER3\n"
     ]
    },
    {
     "name": "stderr",
     "output_type": "stream",
     "text": [
      "pyswarms.single.global_best: 100%|██████████|200/200, best_cost=1.56\n",
      "2024-04-10 18:34:52,628 - pyswarms.single.global_best - INFO - Optimization finished | best cost: 1.5640106380497414, best pos: [ 0.03703018  0.24401094 -1.187783   -0.11159834  0.69415835  0.29366864\n",
      "  0.30978354  1.06108927]\n",
      "2024-04-10 18:34:53,410 - pyswarms.single.global_best - INFO - Optimize for 200 iters with {'c1': 0.5, 'c2': 0.3, 'w': 0.9}\n"
     ]
    },
    {
     "name": "stdout",
     "output_type": "stream",
     "text": [
      "NOR1\n"
     ]
    },
    {
     "name": "stderr",
     "output_type": "stream",
     "text": [
      "pyswarms.single.global_best: 100%|██████████|200/200, best_cost=1.55\n",
      "2024-04-10 18:34:58,284 - pyswarms.single.global_best - INFO - Optimization finished | best cost: 1.5521389344690728, best pos: [ 0.16580716  1.41367692 -0.91864153 -1.18582257  0.52841972  0.01425773\n",
      "  0.09314284  0.00982825]\n",
      "2024-04-10 18:34:58,672 - pyswarms.single.global_best - INFO - Optimize for 200 iters with {'c1': 0.5, 'c2': 0.3, 'w': 0.9}\n"
     ]
    },
    {
     "name": "stdout",
     "output_type": "stream",
     "text": [
      "USA1\n"
     ]
    },
    {
     "name": "stderr",
     "output_type": "stream",
     "text": [
      "pyswarms.single.global_best: 100%|██████████|200/200, best_cost=1.5 \n",
      "2024-04-10 18:35:10,218 - pyswarms.single.global_best - INFO - Optimization finished | best cost: 1.504174773160508, best pos: [ 0.03015627  0.07999185 -0.29193319 -1.45936824  0.94995089  0.53874083\n",
      "  0.54188965  0.98736382]\n",
      "2024-04-10 18:35:11,129 - pyswarms.single.global_best - INFO - Optimize for 200 iters with {'c1': 0.5, 'c2': 0.3, 'w': 0.9}\n"
     ]
    },
    {
     "name": "stdout",
     "output_type": "stream",
     "text": [
      "FRA3\n"
     ]
    },
    {
     "name": "stderr",
     "output_type": "stream",
     "text": [
      "pyswarms.single.global_best: 100%|██████████|200/200, best_cost=1.22\n",
      "2024-04-10 18:35:18,371 - pyswarms.single.global_best - INFO - Optimization finished | best cost: 1.2223468864785867, best pos: [ 0.03219458  0.22522239 -1.06391193 -1.32580266  0.76627028  0.11776125\n",
      "  0.12562927  0.6228954 ]\n",
      "2024-04-10 18:35:18,934 - pyswarms.single.global_best - INFO - Optimize for 200 iters with {'c1': 0.5, 'c2': 0.3, 'w': 0.9}\n"
     ]
    },
    {
     "name": "stdout",
     "output_type": "stream",
     "text": [
      "RUS2\n"
     ]
    },
    {
     "name": "stderr",
     "output_type": "stream",
     "text": [
      "pyswarms.single.global_best: 100%|██████████|200/200, best_cost=1.27\n",
      "2024-04-10 18:35:27,868 - pyswarms.single.global_best - INFO - Optimization finished | best cost: 1.2746133723339539, best pos: [ 0.14995992  0.05647807 -1.1086011  -1.42144563  0.39478905  0.86126608\n",
      "  0.91942483  0.18429937]\n",
      "2024-04-10 18:35:28,558 - pyswarms.single.global_best - INFO - Optimize for 200 iters with {'c1': 0.5, 'c2': 0.3, 'w': 0.9}\n"
     ]
    },
    {
     "name": "stdout",
     "output_type": "stream",
     "text": [
      "USA2\n"
     ]
    },
    {
     "name": "stderr",
     "output_type": "stream",
     "text": [
      "pyswarms.single.global_best: 100%|██████████|200/200, best_cost=1.64\n",
      "2024-04-10 18:35:41,213 - pyswarms.single.global_best - INFO - Optimization finished | best cost: 1.6356468723458248, best pos: [ 0.02152992  0.03099958 -0.78786199 -0.78687897  0.50714759  0.98029792\n",
      "  0.43502578  0.78052797]\n",
      "2024-04-10 18:35:42,201 - pyswarms.single.global_best - INFO - Optimize for 200 iters with {'c1': 0.5, 'c2': 0.3, 'w': 0.9}\n"
     ]
    },
    {
     "name": "stdout",
     "output_type": "stream",
     "text": [
      "BRA2\n"
     ]
    },
    {
     "name": "stderr",
     "output_type": "stream",
     "text": [
      "pyswarms.single.global_best: 100%|██████████|200/200, best_cost=0.974\n",
      "2024-04-10 18:35:52,002 - pyswarms.single.global_best - INFO - Optimization finished | best cost: 0.9741825313831669, best pos: [ 0.08807358  0.03217552 -1.39100154 -1.63108401  0.62843409  0.96219924\n",
      "  0.41616952  0.81587772]\n",
      "2024-04-10 18:35:52,767 - pyswarms.single.global_best - INFO - Optimize for 200 iters with {'c1': 0.5, 'c2': 0.3, 'w': 0.9}\n"
     ]
    },
    {
     "name": "stdout",
     "output_type": "stream",
     "text": [
      "JPN2\n"
     ]
    },
    {
     "name": "stderr",
     "output_type": "stream",
     "text": [
      "pyswarms.single.global_best: 100%|██████████|200/200, best_cost=1.3 \n",
      "2024-04-10 18:36:05,390 - pyswarms.single.global_best - INFO - Optimization finished | best cost: 1.2982354548043455, best pos: [ 0.04946129  0.07893709 -1.0092051  -0.63599098  0.6558205   0.69862402\n",
      "  0.70404912  0.43264952]\n",
      "2024-04-10 18:36:06,615 - pyswarms.single.global_best - INFO - Optimize for 200 iters with {'c1': 0.5, 'c2': 0.3, 'w': 0.9}\n"
     ]
    },
    {
     "name": "stdout",
     "output_type": "stream",
     "text": [
      "44986\n"
     ]
    },
    {
     "name": "stderr",
     "output_type": "stream",
     "text": [
      "pyswarms.single.global_best: 100%|██████████|200/200, best_cost=1.13\n",
      "2024-04-10 18:36:07,049 - pyswarms.single.global_best - INFO - Optimization finished | best cost: 1.128643865692746, best pos: [ 0.31009721  0.0149228  -0.86941382 -1.66494522  0.96032581  0.30312369\n",
      "  0.67664436  0.03924798]\n"
     ]
    },
    {
     "name": "stdout",
     "output_type": "stream",
     "text": [
      "--- 405.2173230648041 seconds ---\n"
     ]
    }
   ],
   "source": [
    "\n",
    "start_time = time.time()\n",
    "for file in [\"data_recent_and_val\"]:\n",
    "    df = pd.read_csv(f\"split_data/{file}.csv\")\n",
    "    # df=df[df[\"Sea\"].isin(df[\"Sea\"].unique()[-5:])] #take 5 season of data only\n",
    "    \n",
    "    #hyperparameter for PSO\n",
    "    x_max = np.array([5, 5, 5, 5, 1.5, 1.5, 1.5, 1.5])\n",
    "    x_min = np.array([0, 0, -5, -5, 0, 0, 0, 0])\n",
    "    bounds = (x_min, x_max)\n",
    "    options = {'c1': 0.5, 'c2': 0.3, 'w': 0.9}\n",
    "    \n",
    "    warnings.simplefilter('ignore')\n",
    "    for league in df.Lge.unique():\n",
    "        print(league)\n",
    "        df1=df[df[\"Lge\"]==league]\n",
    "        #team_to_index = {team_name: i for i, team_name in enumerate(np.unique(np.concatenate((df1['HT'].tolist(), df1['AT'].tolist()), axis=0)))}\n",
    "        optimizer = GlobalBestPSO(n_particles=50, dimensions=8, options=options, bounds=bounds)\n",
    "        cost, pos = optimizer.optimize(total_goal_prediction_error, 200)\n",
    "        # pos=([ 4.01929603,  3.99244614,  1.10115083, -2.06364501,  0.80629929,\n",
    "        #         0.57379537,  0.95790575,  1.00337636])\n",
    "        df1,team_ratings=berrar_rating(df1,x=pos)\n",
    "        df1.to_csv(f\"berrar_ratings/{file}_{league}.csv\", index=False)\n",
    "        with open(f'berrar_ratings/{file}_{league}_berrarratings_hyperparameters.pickle', 'wb') as handle:\n",
    "            pickle.dump(pos, handle, protocol=pickle.HIGHEST_PROTOCOL)\n",
    "        with open(f'berrar_ratings/{file}_{league}_team_ratings_dict.pickle', 'wb') as handle:\n",
    "            pickle.dump(team_ratings, handle, protocol=pickle.HIGHEST_PROTOCOL)\n",
    "print(\"--- %s seconds ---\" % (time.time() - start_time))\n"
   ]
  }
 ],
 "metadata": {
  "kernelspec": {
   "display_name": "env",
   "language": "python",
   "name": "python3"
  },
  "language_info": {
   "codemirror_mode": {
    "name": "ipython",
    "version": 3
   },
   "file_extension": ".py",
   "mimetype": "text/x-python",
   "name": "python",
   "nbconvert_exporter": "python",
   "pygments_lexer": "ipython3",
   "version": "3.12.0"
  }
 },
 "nbformat": 4,
 "nbformat_minor": 2
}
